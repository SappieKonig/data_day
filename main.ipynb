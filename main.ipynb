{
 "cells": [
  {
   "cell_type": "markdown",
   "metadata": {},
   "source": [
    "Dit is een kleine introductie voor RAG: Retrieval Augmented Generation.\n",
    "\n",
    "Rag bestaat uit 3 stappen:\n",
    "1. Je stelt een vraag.\n",
    "2. Aan de hand van de vraag worden relevante documenten uit een database gehaald.\n",
    "3. Deze documenten + de vraag worden aan een LLM gegeven, die vervolgens de vraag moet beantwoorden.\n",
    "\n",
    "Heerlijk simpel, en ontzettend krachtig als het goed werkt!\n",
    "Vandaag gaan we een duik nemen in RAG, en kijken hoe we dit binnen Zilveren Kruis kunnen gebruiken!"
   ]
  },
  {
   "cell_type": "markdown",
   "metadata": {},
   "source": [
    "Stap 1 is het maken van een database. De huidige omgeving is niet bijzonder veilig, dus pakken we publieke data: de regiobeelden en plannen die [hier](https://www.dejuistezorgopdejuisteplek.nl/programmas/integraal-zorgakkoord/iza-onderdelen/regionale-samenwerking/regiobeelden-en-plannen/) te vinden zijn. Op deze pagina zijn een hoop PDF's te vinden. Om hier een zoekbare database van te kunnen maken, moeten we deze downloaden en er een textueel format van maken. Vooral die laatste stap kost veel tijd, dus het maken van de database heb ik al voor jullie gedaan.\n",
    "\n",
    "Stap 2 is het zoekbaar maken van een database."
   ]
  },
  {
   "cell_type": "markdown",
   "metadata": {},
   "source": []
  },
  {
   "cell_type": "markdown",
   "metadata": {},
   "source": []
  }
 ],
 "metadata": {
  "language_info": {
   "name": "python"
  }
 },
 "nbformat": 4,
 "nbformat_minor": 2
}
