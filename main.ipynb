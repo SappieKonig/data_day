{
 "cells": [
  {
   "cell_type": "markdown",
   "metadata": {},
   "source": [
    "# Werksessie Retrieval Augmented Generation (RAG)\n",
    "\n",
    "Dit is een kleine introductie voor RAG: Retrieval Augmented Generation.\n",
    "\n",
    "Rag bestaat uit 3 stappen:\n",
    "1. Je stelt een vraag.\n",
    "2. Aan de hand van de vraag worden relevante documenten uit een database gehaald.\n",
    "3. Deze documenten + de vraag worden aan een LLM gegeven, die vervolgens de vraag moet beantwoorden.\n",
    "\n",
    "Heerlijk simpel, en ontzettend krachtig als het goed werkt!\n",
    "Vandaag gaan we een duik nemen in RAG, en kijken hoe we dit binnen Zilveren Kruis kunnen gebruiken!"
   ]
  },
  {
   "cell_type": "markdown",
   "metadata": {},
   "source": [
    "## Stap 1: het maken van een database \n",
    "\n",
    "De Kaggle omgeving is niet bijzonder veilig, dus maken we gebruik van publieke data. In dit geval de regiobeelden en plannen uit het integraal zorgakkoord. Deze zijn [hier](https://www.dejuistezorgopdejuisteplek.nl/programmas/integraal-zorgakkoord/iza-onderdelen/regionale-samenwerking/regiobeelden-en-plannen/) te vinden zijn. "
   ]
  },
  {
   "cell_type": "code",
   "execution_count": null,
   "metadata": {
    "vscode": {
     "languageId": "plaintext"
    }
   },
   "outputs": [],
   "source": [
    "# Download een regioplan \n",
    "# <curl statement om regioplan te downloaden>"
   ]
  },
  {
   "cell_type": "code",
   "execution_count": null,
   "metadata": {
    "vscode": {
     "languageId": "plaintext"
    }
   },
   "outputs": [],
   "source": [
    "# Render gedownloade pdf in jupyter notebook\n",
    "# <Python code om pdf te renderen>"
   ]
  },
  {
   "cell_type": "markdown",
   "metadata": {},
   "source": [
    "### Een vector database bouwen"
   ]
  },
  {
   "cell_type": "code",
   "execution_count": null,
   "metadata": {
    "vscode": {
     "languageId": "plaintext"
    }
   },
   "outputs": [],
   "source": [
    "# Initialiseer een lege vector database"
   ]
  },
  {
   "cell_type": "code",
   "execution_count": null,
   "metadata": {
    "vscode": {
     "languageId": "plaintext"
    }
   },
   "outputs": [],
   "source": [
    "# Lees een regioplan in"
   ]
  },
  {
   "cell_type": "code",
   "execution_count": null,
   "metadata": {
    "vscode": {
     "languageId": "plaintext"
    }
   },
   "outputs": [],
   "source": [
    "# Split regioplan op in chunks"
   ]
  },
  {
   "cell_type": "code",
   "execution_count": null,
   "metadata": {
    "vscode": {
     "languageId": "plaintext"
    }
   },
   "outputs": [],
   "source": [
    "# Voeg chunks toe aan vector database"
   ]
  },
  {
   "cell_type": "markdown",
   "metadata": {},
   "source": [
    "Omdat er meer dan 100 regiobeelden en -plannen zijn hebben wij deze al vooraf gedownload en toegevoegd aan een vector database. Deze kun je via de onderstaande cell downloaden en inladen. Dit is dus exact hetzelfde proces als je net zelf hebt gedaan alleen dan voor alle regiobeelden en -plannen."
   ]
  },
  {
   "cell_type": "code",
   "execution_count": null,
   "metadata": {
    "vscode": {
     "languageId": "plaintext"
    }
   },
   "outputs": [],
   "source": [
    "# Download de voorbereide vector database\n",
    "# <curl statement om vector db te downloaden>"
   ]
  },
  {
   "cell_type": "code",
   "execution_count": null,
   "metadata": {
    "vscode": {
     "languageId": "plaintext"
    }
   },
   "outputs": [],
   "source": [
    "# Laad database in geheugen\n",
    "# <python statement voor inladen db>"
   ]
  },
  {
   "cell_type": "markdown",
   "metadata": {},
   "source": [
    "## Stap 2: het zoeken in een database"
   ]
  },
  {
   "cell_type": "code",
   "execution_count": null,
   "metadata": {
    "vscode": {
     "languageId": "plaintext"
    }
   },
   "outputs": [],
   "source": []
  },
  {
   "cell_type": "markdown",
   "metadata": {},
   "source": [
    "## Stap 3: het genereren van een antwoord"
   ]
  },
  {
   "cell_type": "markdown",
   "metadata": {},
   "source": []
  }
 ],
 "metadata": {
  "language_info": {
   "name": "python"
  }
 },
 "nbformat": 4,
 "nbformat_minor": 2
}
